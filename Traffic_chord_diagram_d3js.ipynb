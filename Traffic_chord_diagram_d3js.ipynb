{
  "nbformat": 4,
  "nbformat_minor": 0,
  "metadata": {
    "colab": {
      "provenance": [],
      "authorship_tag": "ABX9TyMI80x3Wbhw13kZJrF8W89G",
      "include_colab_link": true
    },
    "kernelspec": {
      "name": "python3",
      "display_name": "Python 3"
    },
    "language_info": {
      "name": "python"
    }
  },
  "cells": [
    {
      "cell_type": "markdown",
      "metadata": {
        "id": "view-in-github",
        "colab_type": "text"
      },
      "source": [
        "<a href=\"https://colab.research.google.com/github/gogela/Colab-D3js/blob/main/Traffic_chord_diagram_d3js.ipynb\" target=\"_parent\"><img src=\"https://colab.research.google.com/assets/colab-badge.svg\" alt=\"Open In Colab\"/></a>"
      ]
    },
    {
      "cell_type": "markdown",
      "source": [
        "Visualize traffic using D3.js chord diagram"
      ],
      "metadata": {
        "id": "02XHKL6xS6Xe"
      }
    },
    {
      "cell_type": "code",
      "source": [
        "#mockup IP data in pd df\n",
        "\n",
        "from random import randint\n",
        "import pandas as pd\n",
        "import numpy as np\n",
        "\n",
        "maxip=50\n",
        "maxpkt=100000\n",
        "maxflows=100\n",
        "iplist=['10.{}.{}.{}'.format(randint(0,254),randint(0,254),randint(1,254)) for x in range(maxip)]\n",
        "flows = [[iplist[randint(0,maxip-1)],iplist[randint(0,maxip-1)],randint(1,maxpkt)] for x in range(maxflows)]\n",
        "df = pd.DataFrame(np.array(flows), columns=['src', 'dst', 'pkt'])\n",
        "\n",
        "#convert to matrix for d3\n",
        "indexes = list(df.src.unique())\n",
        "indexes += list(df.dst.unique())\n",
        "indexes = sorted(list(set(indexes)))\n",
        "l = len(indexes)\n",
        "matrix = [[0 for i in range(l)] for j in range(l)]\n",
        "\n",
        "def update_matrix(x):\n",
        "  i=indexes.index(x.src)\n",
        "  j=indexes.index(x.dst)\n",
        "  matrix[i][j]+=int(x.pkt)\n",
        "  matrix[j][i]+=int(x.pkt)\n",
        "df.apply(lambda x: update_matrix(x), axis=1)\n"
      ],
      "metadata": {
        "id": "qAjWXswyDfaQ"
      },
      "execution_count": null,
      "outputs": []
    },
    {
      "cell_type": "code",
      "source": [
        "#data to string for HTML injection\n",
        "datajs = str(matrix)\n",
        "labels = str(indexes)\n",
        "size=1400\n",
        "radius=400"
      ],
      "metadata": {
        "id": "krsGF6F-p53i"
      },
      "execution_count": null,
      "outputs": []
    },
    {
      "cell_type": "code",
      "source": [
        "#d3js html - parametrized\n",
        "html=f'''\n",
        "<!DOCTYPE html>\n",
        "<meta charset=\"utf-8\">\n",
        "\n",
        "<!-- Load d3.js -->\n",
        "<script src=\"https://d3js.org/d3.v4.js\"></script>\n",
        "\n",
        "<!-- Create a div where the graph will take place -->\n",
        "<div id=\"my_dataviz\"></div>\n",
        "<script>\n",
        "\n",
        "// create the svg area\n",
        "var svg = d3.select(\"#my_dataviz\")\n",
        "  .append(\"svg\")\n",
        "    .attr(\"width\", {size})\n",
        "    .attr(\"height\", {size})\n",
        "  .append(\"g\")\n",
        "    .attr(\"transform\", \"translate({size/2},{size/2})\")\n",
        "\n",
        "// create input data: a square matrix that provides flow between entities\n",
        "var matrix = {datajs};\n",
        "var labels = {labels}\n",
        "\n",
        "\n",
        "// give this matrix to d3.chord(): it will calculates all the info we need to draw arc and ribbon\n",
        "var res = d3.chord()\n",
        "    .padAngle(0.05)     // padding between entities (black arc)\n",
        "    .sortSubgroups(d3.descending)\n",
        "    (matrix)\n",
        "\n",
        "//index based color\n",
        "var myColor = d3.scaleSequential().domain([1,res.length]).interpolator(d3.interpolateViridis);\n",
        "\n",
        "// add the groups on the inner part of the circle\n",
        "svg\n",
        "  .datum(res)\n",
        "  .append(\"g\")\n",
        "  .selectAll(\"g\")\n",
        "  .data(function(d) {{  return d.groups; }})\n",
        "  .enter()\n",
        "  .append(\"g\")\n",
        "  .append(\"path\")\n",
        "    .style(\"fill\", \"red\")\n",
        "    .style(\"stroke\", \"black\")\n",
        "    .attr(\"d\", d3.arc()\n",
        "      .innerRadius({radius})\n",
        "      .outerRadius({radius+10})\n",
        "    )\n",
        "\n",
        "// Add the links between groups\n",
        "svg\n",
        "  .datum(res)\n",
        "  .append(\"g\")\n",
        "  .selectAll(\"path\")\n",
        "  .data(function(d) {{ return d; }})\n",
        "  .enter()\n",
        "  .append(\"path\")\n",
        "    .attr(\"d\", d3.ribbon()\n",
        "      .radius({radius})\n",
        "    )\n",
        "    .style(\"fill\", function(d,i){{ return myColor(i) }})\n",
        "    .style(\"stroke\", \"black\");\n",
        "\n",
        "var offset =5\n",
        "svg\n",
        ".selectAll(\".group-tick-label\")\n",
        "  .data(function(d) {{  return d.groups; }})\n",
        "  .enter()\n",
        "  //.filter(function(d) {{ return d.value % 25 === 0; }})\n",
        "  .append(\"g\")\n",
        "    .attr(\"transform\", function(d) {{ var x = \"rotate(\" + ((d.startAngle+(d.endAngle-d.startAngle)/2) * 180 / Math.PI - 90) + \") translate(\" + ({radius} + offset) + \",0)\";  return x }})\n",
        "  .append(\"text\")\n",
        "    .attr(\"x\", 8)\n",
        "    .attr(\"dy\", \".35em\")\n",
        "    .attr(\"transform\", function(d) {{  return d.startAngle > Math.PI ? \"rotate(180) translate(-16)\" : null; }})\n",
        "    .style(\"text-anchor\", function(d) {{ return d.startAngle > Math.PI ? \"end\" : null; }})\n",
        "    .text(function(d,i) {{ return labels[i] }})\n",
        "    .style(\"font-size\", 12)\n",
        "\n",
        "\n",
        "</script>\n",
        "'''"
      ],
      "metadata": {
        "id": "Od2c-6tVa3Rv"
      },
      "execution_count": null,
      "outputs": []
    },
    {
      "cell_type": "code",
      "source": [
        "#\n",
        "from IPython.core.display import HTML\n",
        "HTML(html)"
      ],
      "metadata": {
        "colab": {
          "base_uri": "https://localhost:8080/",
          "height": 1000
        },
        "id": "vgS6aAICCnIb",
        "outputId": "f7a1db4b-1361-43c8-9c7d-024f0f1a1810"
      },
      "execution_count": null,
      "outputs": [
        {
          "output_type": "execute_result",
          "data": {
            "text/plain": [
              "<IPython.core.display.HTML object>"
            ],
            "text/html": [
              "\n",
              "<!DOCTYPE html>\n",
              "<meta charset=\"utf-8\">\n",
              "\n",
              "<!-- Load d3.js -->\n",
              "<script src=\"https://d3js.org/d3.v4.js\"></script>\n",
              "\n",
              "<!-- Create a div where the graph will take place -->\n",
              "<div id=\"my_dataviz\"></div>\n",
              "<script>\n",
              "\n",
              "// create the svg area\n",
              "var svg = d3.select(\"#my_dataviz\")\n",
              "  .append(\"svg\")\n",
              "    .attr(\"width\", 1400)\n",
              "    .attr(\"height\", 1400)\n",
              "  .append(\"g\")\n",
              "    .attr(\"transform\", \"translate(700.0,700.0)\")\n",
              "\n",
              "// create input data: a square matrix that provides flow between entities\n",
              "var matrix = [[0, 0, 0, 0, 0, 0, 0, 0, 784, 0, 0, 0, 0, 0, 0, 0, 0, 0, 0, 0, 0, 0, 0, 0, 0, 0, 0, 0, 0, 0, 0, 0, 0, 0, 0, 0, 0, 0, 0, 0, 106056, 13980, 46052, 0, 0, 0, 0, 0, 94528, 0], [0, 0, 0, 0, 15662, 0, 0, 0, 0, 0, 0, 0, 0, 0, 0, 0, 0, 0, 0, 0, 0, 0, 0, 0, 0, 0, 0, 0, 0, 0, 0, 0, 0, 0, 0, 0, 0, 0, 0, 0, 0, 69243, 0, 0, 0, 0, 0, 0, 0, 49006], [0, 0, 0, 0, 0, 0, 0, 0, 0, 0, 39917, 0, 0, 0, 0, 0, 0, 0, 0, 48399, 0, 0, 0, 0, 0, 0, 0, 0, 0, 0, 0, 0, 0, 0, 0, 0, 9110, 0, 0, 0, 0, 0, 0, 0, 0, 0, 0, 0, 0, 0], [0, 0, 0, 0, 0, 0, 0, 0, 0, 0, 0, 0, 0, 0, 0, 0, 0, 0, 0, 0, 0, 0, 0, 81585, 0, 0, 0, 0, 0, 0, 0, 0, 0, 140509, 0, 0, 89265, 0, 0, 0, 0, 0, 0, 0, 0, 0, 0, 0, 0, 0], [0, 15662, 0, 0, 0, 0, 34994, 0, 0, 0, 0, 0, 0, 0, 0, 82847, 0, 0, 0, 0, 0, 0, 0, 0, 0, 0, 0, 0, 0, 0, 0, 0, 0, 0, 0, 0, 0, 0, 46662, 0, 0, 0, 0, 0, 0, 0, 0, 0, 0, 0], [0, 0, 0, 0, 0, 0, 0, 0, 0, 0, 0, 0, 0, 0, 0, 0, 0, 94617, 0, 0, 0, 0, 0, 0, 0, 0, 0, 0, 0, 0, 0, 0, 0, 0, 0, 0, 0, 0, 0, 0, 0, 0, 72940, 0, 0, 53313, 4257, 0, 0, 59701], [0, 0, 0, 0, 34994, 0, 0, 0, 0, 12909, 0, 0, 0, 0, 0, 0, 0, 0, 0, 0, 0, 0, 0, 0, 0, 0, 0, 7536, 0, 0, 0, 0, 0, 0, 0, 0, 0, 0, 0, 0, 0, 0, 0, 0, 0, 0, 0, 0, 0, 0], [0, 0, 0, 0, 0, 0, 0, 0, 99836, 0, 0, 0, 0, 0, 0, 0, 0, 0, 0, 0, 0, 0, 43343, 0, 0, 0, 0, 0, 75958, 0, 0, 0, 0, 0, 0, 0, 0, 0, 0, 0, 0, 0, 0, 0, 0, 0, 0, 0, 0, 0], [784, 0, 0, 0, 0, 0, 0, 99836, 0, 0, 0, 0, 0, 0, 0, 0, 0, 0, 0, 58388, 0, 0, 0, 0, 0, 0, 0, 0, 0, 0, 0, 0, 0, 0, 0, 0, 0, 0, 61155, 0, 24640, 0, 0, 0, 0, 0, 0, 0, 0, 0], [0, 0, 0, 0, 0, 0, 12909, 0, 0, 0, 0, 0, 0, 0, 0, 0, 0, 0, 0, 0, 0, 0, 0, 0, 0, 0, 0, 26949, 0, 0, 15159, 0, 0, 0, 87651, 0, 64515, 76631, 0, 0, 0, 0, 0, 0, 0, 0, 0, 0, 0, 0], [0, 0, 39917, 0, 0, 0, 0, 0, 0, 0, 0, 0, 0, 0, 0, 0, 0, 0, 0, 0, 0, 59096, 0, 0, 0, 0, 0, 0, 0, 0, 0, 0, 42787, 0, 40409, 0, 0, 0, 0, 0, 0, 0, 0, 0, 9959, 0, 0, 0, 0, 0], [0, 0, 0, 0, 0, 0, 0, 0, 0, 0, 0, 0, 0, 0, 0, 0, 0, 0, 0, 0, 0, 70325, 77595, 0, 0, 0, 0, 0, 0, 0, 0, 0, 0, 0, 0, 0, 50170, 0, 0, 0, 0, 0, 0, 0, 0, 0, 0, 0, 0, 0], [0, 0, 0, 0, 0, 0, 0, 0, 0, 0, 0, 0, 84502, 0, 0, 0, 0, 0, 0, 0, 0, 0, 0, 0, 0, 0, 0, 0, 0, 0, 0, 0, 0, 0, 0, 0, 0, 90200, 0, 0, 0, 0, 0, 0, 0, 0, 0, 0, 0, 0], [0, 0, 0, 0, 0, 0, 0, 0, 0, 0, 0, 0, 0, 0, 0, 0, 0, 0, 0, 0, 0, 0, 0, 0, 0, 0, 9624, 0, 0, 49312, 0, 0, 0, 0, 0, 0, 0, 0, 0, 0, 0, 0, 0, 0, 0, 0, 0, 0, 0, 0], [0, 0, 0, 0, 0, 0, 0, 0, 0, 0, 0, 0, 0, 0, 0, 0, 0, 45068, 0, 0, 0, 0, 0, 0, 0, 0, 0, 16512, 0, 0, 0, 0, 0, 0, 0, 0, 0, 0, 0, 0, 0, 0, 0, 0, 0, 0, 0, 0, 0, 0], [0, 0, 0, 0, 82847, 0, 0, 0, 0, 0, 0, 0, 0, 0, 0, 0, 0, 0, 0, 0, 0, 0, 0, 0, 0, 0, 0, 0, 0, 0, 0, 0, 41326, 0, 0, 0, 0, 0, 0, 0, 87177, 0, 0, 0, 0, 2440, 0, 0, 0, 0], [0, 0, 0, 0, 0, 0, 0, 0, 0, 0, 0, 0, 0, 0, 0, 0, 0, 0, 40703, 0, 0, 0, 78413, 0, 0, 0, 0, 0, 0, 0, 0, 0, 0, 0, 0, 0, 0, 0, 0, 68247, 0, 0, 0, 0, 0, 0, 0, 0, 0, 0], [0, 0, 0, 0, 0, 94617, 0, 0, 0, 0, 0, 0, 0, 0, 45068, 0, 0, 0, 0, 0, 0, 0, 0, 0, 0, 0, 41297, 0, 0, 58754, 77757, 0, 0, 0, 32013, 0, 0, 0, 0, 0, 0, 0, 0, 58342, 0, 0, 29203, 17517, 0, 0], [0, 0, 0, 0, 0, 0, 0, 0, 0, 0, 0, 0, 0, 0, 0, 0, 40703, 0, 0, 0, 0, 39694, 0, 0, 82181, 0, 0, 0, 0, 0, 0, 0, 0, 0, 0, 0, 0, 0, 0, 0, 0, 0, 0, 65558, 0, 0, 0, 0, 0, 0], [0, 0, 48399, 0, 0, 0, 0, 0, 58388, 0, 0, 0, 0, 0, 0, 0, 0, 0, 0, 0, 0, 0, 0, 0, 0, 0, 0, 0, 0, 0, 0, 0, 0, 0, 0, 96138, 0, 0, 0, 0, 61724, 0, 0, 97552, 0, 73220, 0, 0, 0, 0], [0, 0, 0, 0, 0, 0, 0, 0, 0, 0, 0, 0, 0, 0, 0, 0, 0, 0, 0, 0, 0, 0, 0, 0, 0, 0, 79676, 0, 0, 0, 0, 0, 0, 0, 0, 0, 0, 0, 0, 0, 0, 0, 0, 0, 0, 0, 0, 0, 0, 0], [0, 0, 0, 0, 0, 0, 0, 0, 0, 0, 59096, 70325, 0, 0, 0, 0, 0, 0, 39694, 0, 0, 0, 0, 0, 0, 0, 0, 0, 0, 0, 0, 0, 0, 0, 0, 0, 0, 0, 0, 0, 0, 0, 0, 0, 0, 0, 0, 0, 0, 0], [0, 0, 0, 0, 0, 0, 0, 43343, 0, 0, 0, 77595, 0, 0, 0, 0, 78413, 0, 0, 0, 0, 0, 0, 0, 0, 0, 0, 0, 0, 0, 0, 0, 0, 0, 0, 0, 0, 0, 0, 0, 0, 0, 0, 0, 0, 0, 0, 0, 0, 0], [0, 0, 0, 81585, 0, 0, 0, 0, 0, 0, 0, 0, 0, 0, 0, 0, 0, 0, 0, 0, 0, 0, 0, 0, 0, 0, 0, 0, 0, 0, 0, 0, 0, 0, 0, 0, 0, 88961, 0, 0, 0, 0, 0, 0, 0, 0, 26143, 0, 0, 0], [0, 0, 0, 0, 0, 0, 0, 0, 0, 0, 0, 0, 0, 0, 0, 0, 0, 0, 82181, 0, 0, 0, 0, 0, 0, 0, 69916, 0, 0, 0, 11562, 0, 0, 0, 0, 0, 0, 0, 0, 0, 0, 0, 0, 14415, 0, 0, 0, 0, 0, 0], [0, 0, 0, 0, 0, 0, 0, 0, 0, 0, 0, 0, 0, 0, 0, 0, 0, 0, 0, 0, 0, 0, 0, 0, 0, 0, 0, 0, 0, 0, 0, 0, 0, 0, 0, 0, 0, 0, 0, 55984, 0, 94103, 0, 0, 0, 0, 0, 0, 0, 0], [0, 0, 0, 0, 0, 0, 0, 0, 0, 0, 0, 0, 0, 9624, 0, 0, 0, 41297, 0, 0, 79676, 0, 0, 0, 69916, 0, 0, 0, 0, 0, 0, 0, 0, 0, 0, 0, 0, 0, 0, 0, 0, 0, 0, 0, 0, 98957, 0, 0, 0, 0], [0, 0, 0, 0, 0, 0, 7536, 0, 0, 26949, 0, 0, 0, 0, 16512, 0, 0, 0, 0, 0, 0, 0, 0, 0, 0, 0, 0, 0, 0, 0, 0, 0, 63450, 26053, 0, 0, 0, 0, 0, 0, 0, 0, 0, 0, 28952, 0, 0, 89618, 16446, 14136], [0, 0, 0, 0, 0, 0, 0, 75958, 0, 0, 0, 0, 0, 0, 0, 0, 0, 0, 0, 0, 0, 0, 0, 0, 0, 0, 0, 0, 0, 0, 0, 0, 0, 0, 0, 0, 0, 0, 0, 0, 0, 0, 0, 0, 0, 0, 0, 0, 0, 0], [0, 0, 0, 0, 0, 0, 0, 0, 0, 0, 0, 0, 0, 49312, 0, 0, 0, 58754, 0, 0, 0, 0, 0, 0, 0, 0, 0, 0, 0, 0, 0, 0, 0, 0, 92102, 0, 0, 0, 0, 0, 0, 0, 0, 0, 0, 0, 0, 0, 0, 0], [0, 0, 0, 0, 0, 0, 0, 0, 0, 15159, 0, 0, 0, 0, 0, 0, 0, 77757, 0, 0, 0, 0, 0, 0, 11562, 0, 0, 0, 0, 0, 0, 0, 0, 0, 0, 0, 0, 0, 0, 0, 42021, 0, 0, 0, 0, 0, 0, 48509, 0, 0], [0, 0, 0, 0, 0, 0, 0, 0, 0, 0, 0, 0, 0, 0, 0, 0, 0, 0, 0, 0, 0, 0, 0, 0, 0, 0, 0, 0, 0, 0, 0, 0, 0, 50191, 0, 0, 0, 0, 0, 0, 0, 0, 86338, 0, 0, 0, 0, 0, 0, 0], [0, 0, 0, 0, 0, 0, 0, 0, 0, 0, 42787, 0, 0, 0, 0, 41326, 0, 0, 0, 0, 0, 0, 0, 0, 0, 0, 0, 63450, 0, 0, 0, 0, 0, 0, 0, 0, 0, 0, 0, 0, 0, 0, 0, 0, 0, 0, 0, 0, 0, 0], [0, 0, 0, 140509, 0, 0, 0, 0, 0, 0, 0, 0, 0, 0, 0, 0, 0, 0, 0, 0, 0, 0, 0, 0, 0, 0, 0, 26053, 0, 0, 0, 50191, 0, 0, 0, 0, 0, 0, 0, 0, 0, 0, 0, 0, 0, 0, 0, 0, 0, 0], [0, 0, 0, 0, 0, 0, 0, 0, 0, 87651, 40409, 0, 0, 0, 0, 0, 0, 32013, 0, 0, 0, 0, 0, 0, 0, 0, 0, 0, 0, 92102, 0, 0, 0, 0, 0, 0, 0, 0, 0, 0, 0, 0, 0, 0, 0, 0, 0, 0, 0, 0], [0, 0, 0, 0, 0, 0, 0, 0, 0, 0, 0, 0, 0, 0, 0, 0, 0, 0, 0, 96138, 0, 0, 0, 0, 0, 0, 0, 0, 0, 0, 0, 0, 0, 0, 0, 0, 0, 0, 0, 0, 0, 17222, 0, 0, 0, 0, 0, 0, 0, 0], [0, 0, 9110, 89265, 0, 0, 0, 0, 0, 64515, 0, 50170, 0, 0, 0, 0, 0, 0, 0, 0, 0, 0, 0, 0, 0, 0, 0, 0, 0, 0, 0, 0, 0, 0, 0, 0, 0, 0, 0, 0, 28395, 0, 0, 0, 0, 0, 0, 0, 0, 0], [0, 0, 0, 0, 0, 0, 0, 0, 0, 76631, 0, 0, 90200, 0, 0, 0, 0, 0, 0, 0, 0, 0, 0, 88961, 0, 0, 0, 0, 0, 0, 0, 0, 0, 0, 0, 0, 0, 0, 0, 0, 0, 0, 0, 0, 36332, 0, 0, 0, 0, 0], [0, 0, 0, 0, 46662, 0, 0, 0, 61155, 0, 0, 0, 0, 0, 0, 0, 0, 0, 0, 0, 0, 0, 0, 0, 0, 0, 0, 0, 0, 0, 0, 0, 0, 0, 0, 0, 0, 0, 0, 0, 0, 0, 0, 0, 0, 0, 0, 0, 72800, 0], [0, 0, 0, 0, 0, 0, 0, 0, 0, 0, 0, 0, 0, 0, 0, 0, 68247, 0, 0, 0, 0, 0, 0, 0, 0, 55984, 0, 0, 0, 0, 0, 0, 0, 0, 0, 0, 0, 0, 0, 0, 0, 0, 0, 0, 0, 0, 0, 0, 0, 0], [106056, 0, 0, 0, 0, 0, 0, 0, 24640, 0, 0, 0, 0, 0, 0, 87177, 0, 0, 0, 61724, 0, 0, 0, 0, 0, 0, 0, 0, 0, 0, 42021, 0, 0, 0, 0, 0, 28395, 0, 0, 0, 0, 0, 0, 0, 0, 0, 0, 0, 0, 0], [13980, 69243, 0, 0, 0, 0, 0, 0, 0, 0, 0, 0, 0, 0, 0, 0, 0, 0, 0, 0, 0, 0, 0, 0, 0, 94103, 0, 0, 0, 0, 0, 0, 0, 0, 0, 17222, 0, 0, 0, 0, 0, 0, 0, 0, 65582, 0, 0, 4486, 0, 0], [46052, 0, 0, 0, 0, 72940, 0, 0, 0, 0, 0, 0, 0, 0, 0, 0, 0, 0, 0, 0, 0, 0, 0, 0, 0, 0, 0, 0, 0, 0, 0, 86338, 0, 0, 0, 0, 0, 0, 0, 0, 0, 0, 0, 0, 0, 0, 0, 0, 0, 6512], [0, 0, 0, 0, 0, 0, 0, 0, 0, 0, 0, 0, 0, 0, 0, 0, 0, 58342, 65558, 97552, 0, 0, 0, 0, 14415, 0, 0, 0, 0, 0, 0, 0, 0, 0, 0, 0, 0, 0, 0, 0, 0, 0, 0, 0, 0, 0, 0, 0, 0, 0], [0, 0, 0, 0, 0, 0, 0, 0, 0, 0, 9959, 0, 0, 0, 0, 0, 0, 0, 0, 0, 0, 0, 0, 0, 0, 0, 0, 28952, 0, 0, 0, 0, 0, 0, 0, 0, 0, 36332, 0, 0, 0, 65582, 0, 0, 0, 0, 93591, 0, 0, 0], [0, 0, 0, 0, 0, 53313, 0, 0, 0, 0, 0, 0, 0, 0, 0, 2440, 0, 0, 0, 73220, 0, 0, 0, 0, 0, 0, 98957, 0, 0, 0, 0, 0, 0, 0, 0, 0, 0, 0, 0, 0, 0, 0, 0, 0, 0, 0, 0, 0, 0, 0], [0, 0, 0, 0, 0, 4257, 0, 0, 0, 0, 0, 0, 0, 0, 0, 0, 0, 29203, 0, 0, 0, 0, 0, 26143, 0, 0, 0, 0, 0, 0, 0, 0, 0, 0, 0, 0, 0, 0, 0, 0, 0, 0, 0, 0, 93591, 0, 0, 0, 0, 0], [0, 0, 0, 0, 0, 0, 0, 0, 0, 0, 0, 0, 0, 0, 0, 0, 0, 17517, 0, 0, 0, 0, 0, 0, 0, 0, 0, 89618, 0, 0, 48509, 0, 0, 0, 0, 0, 0, 0, 0, 0, 0, 4486, 0, 0, 0, 0, 0, 0, 0, 83669], [94528, 0, 0, 0, 0, 0, 0, 0, 0, 0, 0, 0, 0, 0, 0, 0, 0, 0, 0, 0, 0, 0, 0, 0, 0, 0, 0, 16446, 0, 0, 0, 0, 0, 0, 0, 0, 0, 0, 72800, 0, 0, 0, 0, 0, 0, 0, 0, 0, 0, 0], [0, 49006, 0, 0, 0, 59701, 0, 0, 0, 0, 0, 0, 0, 0, 0, 0, 0, 0, 0, 0, 0, 0, 0, 0, 0, 0, 0, 14136, 0, 0, 0, 0, 0, 0, 0, 0, 0, 0, 0, 0, 0, 0, 6512, 0, 0, 0, 0, 83669, 0, 0]];\n",
              "var labels = ['10.102.182.154', '10.119.68.44', '10.12.182.41', '10.12.216.3', '10.122.64.163', '10.137.68.35', '10.14.231.71', '10.142.212.246', '10.146.99.246', '10.157.137.250', '10.158.66.2', '10.171.233.176', '10.173.183.232', '10.176.125.170', '10.182.70.54', '10.183.85.178', '10.184.233.245', '10.184.89.89', '10.189.32.46', '10.19.33.52', '10.193.12.236', '10.206.147.91', '10.208.189.133', '10.209.226.112', '10.210.65.4', '10.219.133.87', '10.223.78.206', '10.224.119.238', '10.234.58.158', '10.236.21.153', '10.238.210.14', '10.244.187.79', '10.31.206.166', '10.32.94.254', '10.41.73.78', '10.51.229.166', '10.53.83.99', '10.59.101.18', '10.73.133.121', '10.75.46.121', '10.76.94.122', '10.78.57.59', '10.81.59.115', '10.86.14.181', '10.88.102.83', '10.89.238.244', '10.91.249.83', '10.91.6.204', '10.91.71.241', '10.93.198.188']\n",
              "\n",
              "\n",
              "// give this matrix to d3.chord(): it will calculates all the info we need to draw arc and ribbon\n",
              "var res = d3.chord()\n",
              "    .padAngle(0.05)     // padding between entities (black arc)\n",
              "    .sortSubgroups(d3.descending)\n",
              "    (matrix)\n",
              "\n",
              "//index based color\n",
              "var myColor = d3.scaleSequential().domain([1,res.length]).interpolator(d3.interpolateViridis);\n",
              "\n",
              "// add the groups on the inner part of the circle\n",
              "svg\n",
              "  .datum(res)\n",
              "  .append(\"g\")\n",
              "  .selectAll(\"g\")\n",
              "  .data(function(d) {  return d.groups; })\n",
              "  .enter()\n",
              "  .append(\"g\")\n",
              "  .append(\"path\")\n",
              "    .style(\"fill\", \"red\")\n",
              "    .style(\"stroke\", \"black\")\n",
              "    .attr(\"d\", d3.arc()\n",
              "      .innerRadius(400)\n",
              "      .outerRadius(410)\n",
              "    )\n",
              "\n",
              "// Add the links between groups\n",
              "svg\n",
              "  .datum(res)\n",
              "  .append(\"g\")\n",
              "  .selectAll(\"path\")\n",
              "  .data(function(d) { return d; })\n",
              "  .enter()\n",
              "  .append(\"path\")\n",
              "    .attr(\"d\", d3.ribbon()\n",
              "      .radius(400)\n",
              "    )\n",
              "    .style(\"fill\", function(d,i){ return myColor(i) })\n",
              "    .style(\"stroke\", \"black\");\n",
              "\n",
              "var offset =5\n",
              "svg\n",
              ".selectAll(\".group-tick-label\")\n",
              "  .data(function(d) {  return d.groups; })\n",
              "  .enter()\n",
              "  //.filter(function(d) { return d.value % 25 === 0; })\n",
              "  .append(\"g\")\n",
              "    .attr(\"transform\", function(d) { var x = \"rotate(\" + ((d.startAngle+(d.endAngle-d.startAngle)/2) * 180 / Math.PI - 90) + \") translate(\" + (400 + offset) + \",0)\";  return x })\n",
              "  .append(\"text\")\n",
              "    .attr(\"x\", 8)\n",
              "    .attr(\"dy\", \".35em\")\n",
              "    .attr(\"transform\", function(d) {  return d.startAngle > Math.PI ? \"rotate(180) translate(-16)\" : null; })\n",
              "    .style(\"text-anchor\", function(d) { return d.startAngle > Math.PI ? \"end\" : null; })\n",
              "    .text(function(d,i) { return labels[i] })\n",
              "    .style(\"font-size\", 12)\n",
              "\n",
              "\n",
              "</script>\n"
            ]
          },
          "metadata": {},
          "execution_count": 61
        }
      ]
    },
    {
      "cell_type": "code",
      "source": [
        "f=open('diagram.html','w')\n",
        "f.write(html)\n",
        "f.close()"
      ],
      "metadata": {
        "id": "bxh7_G_Iwmlz"
      },
      "execution_count": null,
      "outputs": []
    }
  ]
}